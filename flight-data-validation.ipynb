{
 "cells": [
  {
   "cell_type": "markdown",
   "metadata": {},
   "source": [
    "# Flight Data Analysis\n"
   ]
  },
  {
   "cell_type": "code",
   "execution_count": null,
   "metadata": {},
   "outputs": [],
   "source": [
    "%matplotlib inline\n",
    "import os\n",
    "import pymongo\n",
    "import pandas as pd\n",
    "db = pymongo.MongoClient(os.environ['MONGO_HOST'])['flirt']\n",
    "SIM_GROUP = \"test-2017-06\"\n"
   ]
  },
  {
   "cell_type": "code",
   "execution_count": null,
   "metadata": {},
   "outputs": [],
   "source": [
    "import datetime\n",
    "\"Notebook evaluated on:\" + str(datetime.datetime.now())"
   ]
  },
  {
   "cell_type": "code",
   "execution_count": null,
   "metadata": {},
   "outputs": [],
   "source": [
    "# Spot-check passenger flows\n",
    "list(db.passengerFlows.find({\n",
    "    'simGroup': SIM_GROUP,\n",
    "    'arrivalAirport': 'SEA',\n",
    "    'departureAirport': 'LAX'\n",
    "}))"
   ]
  },
  {
   "cell_type": "markdown",
   "metadata": {},
   "source": [
    "## Total Passenger Counts by Simulation\n"
   ]
  },
  {
   "cell_type": "code",
   "execution_count": null,
   "metadata": {},
   "outputs": [],
   "source": [
    "results = list(db.passengerFlows.aggregate([{\n",
    "    '$group': {\n",
    "        '_id': \"$simGroup\",\n",
    "        'total': { '$sum': \"$estimatedPassengers\" }\n",
    "    }\n",
    "}]))\n",
    "df = pd.DataFrame(results)\n",
    "df"
   ]
  },
  {
   "cell_type": "code",
   "execution_count": null,
   "metadata": {},
   "outputs": [],
   "source": [
    "results = list(db.schedules.aggregate([{\n",
    "    \"$group\": {\n",
    "        \"_id\": \"$scheduleFileName\",\n",
    "        \"minDate\": { \"$min\": \"$effectiveDate\" }\n",
    "    }\n",
    "}]))\n",
    "df = pd.DataFrame(results)\n",
    "df"
   ]
  },
  {
   "cell_type": "code",
   "execution_count": null,
   "metadata": {},
   "outputs": [],
   "source": [
    "results = list(db.importedFiles.find())\n",
    "df = pd.DataFrame(results)\n",
    "df"
   ]
  },
  {
   "cell_type": "markdown",
   "metadata": {},
   "source": [
    "## Total domestic and international passenger arrivals by US airport"
   ]
  },
  {
   "cell_type": "code",
   "execution_count": null,
   "metadata": {},
   "outputs": [],
   "source": [
    "USAirports = [airport['_id'] for airport in db.airports.find({\"countryName\": \"United States\"})]\n",
    "results = list(db.passengerFlows.aggregate([{\n",
    "   \"$match\": {\n",
    "       \"simGroup\": SIM_GROUP,\n",
    "       \"arrivalAirport\": {\n",
    "           \"$in\": USAirports\n",
    "       }\n",
    "   }\n",
    "}, {\n",
    "    \"$group\": {\n",
    "        \"_id\": \"$arrivalAirport\",\n",
    "        \"domestic\": {\n",
    "            \"$sum\": {\n",
    "                \"$cond\": [{\"$in\": [\"$departureAirport\", USAirports]}, \"$estimatedPassengers\", 0]\n",
    "            }\n",
    "        },\n",
    "        \"domesticOrigins\": {\n",
    "            \"$sum\": {\n",
    "                \"$cond\": [{\"$in\": [\"$departureAirport\", USAirports]}, 1, 0]\n",
    "            }\n",
    "        },\n",
    "        \"international\": {\n",
    "            \"$sum\": {\n",
    "                \"$cond\": [{\"$in\": [\"$departureAirport\", USAirports]}, 0, \"$estimatedPassengers\"]\n",
    "            }\n",
    "        },\n",
    "        \"internationalOrigins\": {\n",
    "            \"$sum\": {\n",
    "                \"$cond\": [{\"$in\": [\"$departureAirport\", USAirports]}, 0, 1]\n",
    "            }\n",
    "        },\n",
    "        \"passengerMiles\": {\n",
    "            \"$sum\": {\n",
    "                \"$multiply\": [\"$estimatedPassengers\", \"$averageDistance\"]\n",
    "            }\n",
    "        }\n",
    "    }\n",
    "}]))\n",
    "inbound_df = pd.DataFrame(results)\n",
    "inbound_df['combined'] = inbound_df.domestic + inbound_df.international\n",
    "inbound_df = inbound_df.sort_values(by='combined', ascending=False).set_index('_id')\n",
    "inbound_df"
   ]
  },
  {
   "cell_type": "code",
   "execution_count": null,
   "metadata": {},
   "outputs": [],
   "source": [
    "import glob\n",
    "# BTS Market Data Source:\n",
    "# https://www.transtats.bts.gov/DL_SelectFields.asp?Table_ID=292\n",
    "bts_df = pd.read_csv(glob.glob(\"*_T100_MARKET_ALL_CARRIER.csv\")[0])\n",
    "bts_df = bts_df.query(\"MONTH == 6\")[[\"PASSENGERS\", \"ORIGIN\", \"DEST\"]]\n",
    "bts_df[\"domestic_origin\"] = bts_df.ORIGIN.isin(USAirports)\n",
    "bts_df[\"international_origin\"] = ~bts_df.domestic_origin\n",
    "bts_df[\"domestic_destination\"] = bts_df.DEST.isin(USAirports)\n",
    "bts_df[\"international_destination\"] = ~bts_df.domestic_destination\n",
    "bts_df[\"domestic_dest_passengers\"] = bts_df.PASSENGERS * bts_df.domestic_destination\n",
    "bts_df[\"international_dest_passengers\"] = bts_df.PASSENGERS * bts_df.international_destination\n",
    "bts_df[\"domestic_passengers\"] = bts_df.PASSENGERS * bts_df.domestic_origin\n",
    "bts_df[\"international_passengers\"] = bts_df.PASSENGERS * bts_df.international_origin\n"
   ]
  },
  {
   "cell_type": "markdown",
   "metadata": {},
   "source": [
    "### Compare outbound flight/passengerFlow data to BTS monthly segment/market data\n",
    " "
   ]
  },
  {
   "cell_type": "code",
   "execution_count": null,
   "metadata": {},
   "outputs": [],
   "source": [
    "direct_outbound_df = pd.DataFrame(list(\n",
    "    db.flights.aggregate([{\n",
    "        '$match': {\n",
    "            \"$and\": [{\n",
    "                'departureDateTime': {\n",
    "                    '$lte': datetime.datetime(2017, 7, 1)\n",
    "                }\n",
    "            }, {\n",
    "                'departureDateTime': {\n",
    "                    '$gte': datetime.datetime(2017, 6, 1)\n",
    "                }\n",
    "            }],\n",
    "            'totalSeats': {\n",
    "                '$gte': 0\n",
    "            }\n",
    "        }\n",
    "    }, {\n",
    "        '$group': {\n",
    "            '_id': '$departureAirport',\n",
    "            'flights': {'$sum' : 1},\n",
    "            'seats': {'$sum' : '$totalSeats'},\n",
    "        }\n",
    "    }\n",
    "  ])\n",
    ")).set_index('_id')"
   ]
  },
  {
   "cell_type": "code",
   "execution_count": null,
   "metadata": {},
   "outputs": [],
   "source": [
    "# Check year to year variation in flights\n",
    "df = pd.DataFrame(list(\n",
    "    db.flights.aggregate([{\n",
    "        '$match': {\n",
    "            \"$and\": [{\n",
    "                'departureDateTime': {\n",
    "                    '$lte': datetime.datetime(2017, 11, 30)\n",
    "                }\n",
    "            }, {\n",
    "                'departureDateTime': {\n",
    "                    '$gte': datetime.datetime(2016, 6, 1)\n",
    "                }\n",
    "            }],\n",
    "            'totalSeats': {\n",
    "                '$gte': 0\n",
    "            }\n",
    "        }\n",
    "    }, {\n",
    "        '$group': {\n",
    "            '_id': {\n",
    "                '$concat': ['$departureAirport', '/', '$arrivalAirport', '/', {\n",
    "                    \"$dateToString\": {\n",
    "                        \"date\": \"$departureDateTime\",\n",
    "                        \"format\": \"%Y-%m\",\n",
    "                    }\n",
    "                }]\n",
    "            },\n",
    "            'flights': {'$sum' : 1}\n",
    "        }\n",
    "    }])\n",
    "))\n",
    "df = pd.concat([df._id.str.split('/', expand=True, n=2), df], axis=1).rename(\n",
    "    columns={0: 'origin', 1: 'destination', 2:'month'})\n",
    "df['origin-destination'] = df.origin + '-' + df.destination\n",
    "df.pivot(index='origin-destination', columns='month', values='flights').corr()"
   ]
  },
  {
   "cell_type": "code",
   "execution_count": null,
   "metadata": {},
   "outputs": [],
   "source": [
    "simulated_outbound_df = pd.DataFrame(list(\n",
    " db.passengerFlows.aggregate([\n",
    "    {\n",
    "        '$match': {\n",
    "            \"simGroup\": SIM_GROUP,\n",
    "            \"departureAirport\": {\n",
    "                \"$in\": USAirports\n",
    "            }\n",
    "        }\n",
    "    }, {\n",
    "        '$group': {\n",
    "            '_id': '$departureAirport',\n",
    "            'estimatedPassengers': {'$sum' : '$estimatedPassengers'},\n",
    "            \"domesticPassengersSim\": {\n",
    "                \"$sum\": {\n",
    "                    \"$cond\": [{\"$in\": [\"$arrivalAirport\", USAirports]}, \"$estimatedPassengers\", 0]\n",
    "                }\n",
    "            },\n",
    "            \"internationalPassengersSim\": {\n",
    "                \"$sum\": {\n",
    "                    \"$cond\": [{\"$in\": [\"$arrivalAirport\", USAirports]}, 0, \"$estimatedPassengers\"]\n",
    "                }\n",
    "            },\n",
    "        }\n",
    "    }\n",
    "  ])\n",
    ")).set_index('_id').sort_values('estimatedPassengers')"
   ]
  },
  {
   "cell_type": "code",
   "execution_count": null,
   "metadata": {},
   "outputs": [],
   "source": [
    "bts_segment_df = pd.read_csv(glob.glob(\"*_T100_SEGMENT_ALL_CARRIER.csv\")[0])\\\n",
    "    .query(\"MONTH == 6\")[[\"ORIGIN\", \"DEST\", \"PASSENGERS\", \"SEATS\", \"DEPARTURES_SCHEDULED\", \"DEPARTURES_PERFORMED\"]]\n",
    "bts_segment_df = bts_segment_df[bts_segment_df.ORIGIN.isin(USAirports)]\n",
    "result = direct_outbound_df\\\n",
    "    .join(simulated_outbound_df, how=\"inner\")\\\n",
    "    .join(bts_df.groupby(\"ORIGIN\").sum(), rsuffix=\"_market\", how=\"inner\")\\\n",
    "    .join(bts_segment_df.groupby(\"ORIGIN\").sum(), rsuffix=\"_segment\", how=\"inner\")\n",
    "result = result[~pd.isna(result.flights)].sort_values(\"flights\")\n",
    "totals = result.sum()\n",
    "totals"
   ]
  },
  {
   "cell_type": "code",
   "execution_count": null,
   "metadata": {},
   "outputs": [],
   "source": [
    "# Segments per passenger computed from BTS data is lower\n",
    "# than the value computed from layover probabilities.\n",
    "# This is most likely due to the BTS market data only including\n",
    "# a subset of the layovers.\n",
    "# The BTS market data shows more incoming origins than the direct flight data\n",
    "# which indicates that it includes at least some multi-leg flights.\n",
    "# The BTS market data has fewer unique origins that the simulation data.\n",
    "# That is most likey due to only a sub-set of layovers being included in it.\n",
    "print \"BTS segments per passenger:\", totals.PASSENGERS_segment / totals.PASSENGERS\n",
    "\n",
    "LEG_PROBABILITY_DISTRIBUTION = {\n",
    "    0: 0.0,\n",
    "    1: 0.6772732,\n",
    "    2: 0.2997706,\n",
    "    3: 0.0211374,\n",
    "    4: 0.0016254,\n",
    "    5: 0.0001632,\n",
    "    6: 0.0000215,\n",
    "    7: 0.0000072,\n",
    "    8: 0.0000012,\n",
    "    9: 0.0000002,\n",
    "    10: 0.0000001\n",
    "}\n",
    "lpd_segments_per_passenger = sum(legs * value for legs, value in LEG_PROBABILITY_DISTRIBUTION.items())\n",
    "print \"Leg dist segments per passenger:\", lpd_segments_per_passenger"
   ]
  },
  {
   "cell_type": "code",
   "execution_count": null,
   "metadata": {},
   "outputs": [],
   "source": [
    "print \"Simulated passengers / BTS market passengers =\", totals.estimatedPassengers / totals.PASSENGERS\n",
    "print \"Simulated passengers / BTS segment seats =\", totals.estimatedPassengers / totals.SEATS\n",
    "print \"Direct flight seats / BTS segment seats =\", totals.seats / totals.SEATS"
   ]
  },
  {
   "cell_type": "code",
   "execution_count": null,
   "metadata": {},
   "outputs": [],
   "source": [
    "# Flights extracted from schedules are between the scheduled and performed departures in BTS data.\n",
    "print \"Scheduled departures / BTS departures =\", totals.flights / totals.DEPARTURES_PERFORMED\n",
    "print \"Scheduled departures / BTS scheduled departures =\", totals.flights / totals.DEPARTURES_SCHEDULED"
   ]
  },
  {
   "cell_type": "code",
   "execution_count": null,
   "metadata": {},
   "outputs": [],
   "source": [
    "# Compute total segment-seats from estimated total passengers.\n",
    "# This should be close to the number of seats in the flight scheulde data.\n",
    "est_total_seats_used = totals.estimatedPassengers * lpd_segments_per_passenger\n",
    "load_factor = totals.PASSENGERS_segment / totals.SEATS\n",
    "est_total_seats = est_total_seats_used / load_factor\n",
    "print \"Estimated total seats / schdeuled seats =\", est_total_seats / totals.seats"
   ]
  },
  {
   "cell_type": "code",
   "execution_count": null,
   "metadata": {},
   "outputs": [],
   "source": [
    "# Find airports with few estimated passengers an many actual passengers because\n",
    "# they may have been simulated incorrectly.\n",
    "result['ratio'] = result.estimatedPassengers / result.PASSENGERS\n",
    "result.query(\"ratio < .5\").sort_values('PASSENGERS')"
   ]
  },
  {
   "cell_type": "markdown",
   "metadata": {},
   "source": [
    "### Compare Incoming passenger flows with BTS data"
   ]
  },
  {
   "cell_type": "code",
   "execution_count": null,
   "metadata": {},
   "outputs": [],
   "source": [
    "direct_incoming_df = pd.DataFrame(list(\n",
    "    db.flights.aggregate([\n",
    "       {\n",
    "           '$match': {\n",
    "               \"$and\": [{\n",
    "                   'departureDateTime': {\n",
    "                       '$lte': datetime.datetime(2017, 7, 1)\n",
    "                   }\n",
    "               }, {\n",
    "                   'departureDateTime': {\n",
    "                       '$gte': datetime.datetime(2017, 6, 1)\n",
    "                   }\n",
    "               }],\n",
    "               'totalSeats': {\n",
    "                   '$gte': 0\n",
    "               }\n",
    "           }\n",
    "       }, {\n",
    "           '$group': {\n",
    "               '_id': {\n",
    "                   '$concat': ['$departureAirport', '-', '$arrivalAirport']\n",
    "               },\n",
    "               'arrivalAirport': { '$first': '$arrivalAirport' },\n",
    "               'departureAirport': { '$first': '$departureAirport' },\n",
    "               'flights': {'$sum' : 1},\n",
    "               'seats': {'$sum' : '$totalSeats'},\n",
    "           }\n",
    "       }, {\n",
    "           '$group': {\n",
    "               '_id': '$arrivalAirport',\n",
    "               \"directDomesticOrigins\": {\n",
    "                   \"$sum\": {\n",
    "                       \"$cond\": [{\"$in\": [\"$departureAirport\", USAirports]}, 1, 0]\n",
    "                   }\n",
    "               },\n",
    "               \"directInternationalOrigins\": {\n",
    "                   \"$sum\": {\n",
    "                       \"$cond\": [{\"$in\": [\"$departureAirport\", USAirports]}, 0, 1]\n",
    "                   }\n",
    "               },\n",
    "               'flights': {'$sum' : '$flights'},\n",
    "               'seats': {'$sum' : '$seats'},\n",
    "           }\n",
    "       }\n",
    "    ])\n",
    ")).set_index('_id')"
   ]
  },
  {
   "cell_type": "code",
   "execution_count": null,
   "metadata": {},
   "outputs": [],
   "source": [
    "inbound_df.join(bts_df.groupby(\"DEST\").sum()).rename(columns={\n",
    "    \"PASSENGERS\": \"Total Passengers (actual)\",\n",
    "    \"domestic_passengers\": \"Domestic Passengers (actual)\",\n",
    "    \"international_passengers\": \"International Passengers (actual)\",\n",
    "    \"combined\": \"Total Passengers (simulated)\",\n",
    "    \"domestic\": \"Domestic Passengers (simulated)\",\n",
    "    \"international\": \"International Passengers (simulated)\",\n",
    "    \"domestic_origin\": \"Number of Domestic Origins (actual)\",\n",
    "    \"international_origin\": \"Number of International Origins (actual)\"\n",
    "}).join(direct_incoming_df)\n"
   ]
  },
  {
   "cell_type": "code",
   "execution_count": null,
   "metadata": {},
   "outputs": [],
   "source": [
    "seatac_dest_oct_2016_rankings = [\n",
    "    \"LAX\",\n",
    "    \"SFO\",\n",
    "    \"ANC\",\n",
    "    \"DEN\",\n",
    "    \"LAS\",\n",
    "    \"PHX\",\n",
    "    \"ORD\",\n",
    "    \"PDX\",\n",
    "    \"DFW\",\n",
    "    \"GEG\"\n",
    "]\n",
    "results = list(db.passengerFlows.aggregate([{\n",
    "   \"$match\": {\n",
    "       \"departureAirport\": \"SEA\",\n",
    "       \"simGroup\": {\n",
    "           \"$in\": [\n",
    "               \"fmd-2017-03\",\n",
    "               \"fmd-2017-04\",\n",
    "               \"fmd-2017-05\",\n",
    "               \"fmd-2017-06\",\n",
    "               \"fmd-2017-07\",\n",
    "               \"fmd-2017-08\",\n",
    "               \"fmd-2017-09\"\n",
    "           ]\n",
    "       },\n",
    "       \"arrivalAirport\": {\n",
    "           \"$in\": USAirports\n",
    "       }\n",
    "   }\n",
    "}, {\n",
    "    \"$group\": {\n",
    "        \"_id\": \"$arrivalAirport\",\n",
    "        \"total\": { \"$sum\": \"$estimatedPassengers\" }\n",
    "    }\n",
    "}]))\n",
    "pd.DataFrame(results).sort_values(by=\"total\", ascending=False)[:15]\n"
   ]
  },
  {
   "cell_type": "code",
   "execution_count": null,
   "metadata": {},
   "outputs": [],
   "source": [
    "# Num flights out vs in\n",
    "out_counts_map = {}\n",
    "departure_airports = set()\n",
    "arrival_airprots = set()\n",
    "for doc in db.flights.aggregate([{\n",
    "    \"$group\": {\n",
    "        \"_id\": \"$departureAirport\",\n",
    "        \"total\": { \"$sum\": 1 }\n",
    "    }\n",
    "}]):\n",
    "    departure_airports.add(doc['_id'])\n",
    "    out_counts_map[doc['_id']] = doc['total']\n",
    "ratios = []\n",
    "for doc in db.flights.aggregate([{\n",
    "    \"$group\": {\n",
    "        \"_id\": \"$arrivalAirport\",\n",
    "        \"total\": { \"$sum\": 1 }\n",
    "    }\n",
    "}]):\n",
    "    arrival_airprots.add(doc['_id'])\n",
    "    out_count = out_counts_map.get(doc['_id'], None)\n",
    "    if out_count:\n",
    "        ratios.append(dict(\n",
    "            _id=doc['_id'],\n",
    "            ratio=doc['total'] / out_count))\n",
    "print(\"Inbound only airports\", arrival_airprots - departure_airports)\n",
    "print(\"Outbound only airports\", departure_airports - arrival_airprots)\n",
    "pd.DataFrame(ratios).sort_values(by=\"ratio\")"
   ]
  },
  {
   "cell_type": "code",
   "execution_count": null,
   "metadata": {},
   "outputs": [],
   "source": [
    "results = db.flights.aggregate([{\n",
    "    \"$group\": {\n",
    "        \"_id\": {\n",
    "            \"$concat\": [{\n",
    "                \"$dateToString\": {\n",
    "                    \"date\": \"$departureDateTime\",\n",
    "                    \"format\": \"%Y-%m-%d\",\n",
    "                }\n",
    "            }, \"_\", \"$scheduleFileName\"]\n",
    "        },\n",
    "        \"totalFlights\": { \"$sum\": 1 },\n",
    "        \"totalSeats\": { \"$sum\": \"$totalSeats\" }\n",
    "    }\n",
    "}])\n",
    "df = pd.DataFrame(list(results))\n",
    "parsed_df = pd.concat([df._id.str.split('_', expand=True, n=1), df], axis=1).rename(\n",
    "    columns={0: 'date', 1: 'file'})\n",
    "parsed_df.date = pd.to_datetime(parsed_df.date)\n",
    "parsed_df[[\"date\", \"totalFlights\", \"totalSeats\", \"file\"]]\n",
    "parsed_df\n"
   ]
  },
  {
   "cell_type": "code",
   "execution_count": null,
   "metadata": {},
   "outputs": [],
   "source": [
    "parsed_df[parsed_df.date < pd.Timestamp(\"2019-1-1\")].plot(\n",
    "    x=\"date\",\n",
    "    y=\"totalSeats\",\n",
    "    kind=\"line\",\n",
    "    title=\"Daily Seats\",\n",
    "    figsize=(12, 6))"
   ]
  },
  {
   "cell_type": "code",
   "execution_count": null,
   "metadata": {},
   "outputs": [],
   "source": [
    "parsed_df.pivot(index='date', columns='file', values='totalSeats').reset_index().plot(\n",
    "    x=\"date\",\n",
    "    kind=\"line\",\n",
    "    title=\"Daily Flights\",\n",
    "    figsize=(12, 6))\n"
   ]
  }
 ],
 "metadata": {
  "kernelspec": {
   "display_name": "Python 2",
   "language": "python",
   "name": "python2"
  },
  "language_info": {
   "codemirror_mode": {
    "name": "ipython",
    "version": 2
   },
   "file_extension": ".py",
   "mimetype": "text/x-python",
   "name": "python",
   "nbconvert_exporter": "python",
   "pygments_lexer": "ipython2",
   "version": "2.7.12"
  }
 },
 "nbformat": 4,
 "nbformat_minor": 1
}
