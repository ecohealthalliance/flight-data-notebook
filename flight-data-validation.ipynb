{
 "cells": [
  {
   "cell_type": "code",
   "execution_count": 8,
   "metadata": {},
   "outputs": [],
   "source": [
    "import os\n",
    "import pymongo\n",
    "import pandas\n",
    "db = pymongo.MongoClient(os.environ['MONGO_HOST'])['flirt']"
   ]
  },
  {
   "cell_type": "code",
   "execution_count": null,
   "metadata": {},
   "outputs": [],
   "source": [
    "# Compare total numbers for simulations on various months.\n",
    "db.passengerFlows.aggregate([{\n",
    "   '$match': {\n",
    "       'arrivalAirport': {\n",
    "           '$in': ['ATL']\n",
    "       }\n",
    "   }\n",
    "}, {\n",
    "    '$group': {\n",
    "        '_id': \"$simGroup\",\n",
    "        'total': { '$sum': \"$estimatedPassengers\" }\n",
    "    }\n",
    "}])"
   ]
  }
 ],
 "metadata": {
  "kernelspec": {
   "display_name": "Python 2",
   "language": "python",
   "name": "python2"
  },
  "language_info": {
   "codemirror_mode": {
    "name": "ipython",
    "version": 2
   },
   "file_extension": ".py",
   "mimetype": "text/x-python",
   "name": "python",
   "nbconvert_exporter": "python",
   "pygments_lexer": "ipython2",
   "version": "2.7.6"
  }
 },
 "nbformat": 4,
 "nbformat_minor": 0
}
