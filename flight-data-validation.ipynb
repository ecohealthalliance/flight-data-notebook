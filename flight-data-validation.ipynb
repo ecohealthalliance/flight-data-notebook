{
 "cells": [
  {
   "cell_type": "code",
   "execution_count": null,
   "metadata": {},
   "outputs": [],
   "source": [
    "%matplotlib inline\n",
    "import os\n",
    "import pymongo\n",
    "import pandas as pd\n",
    "db = pymongo.MongoClient(os.environ['MONGO_HOST'])['flirt']\n"
   ]
  },
  {
   "cell_type": "code",
   "execution_count": null,
   "metadata": {},
   "outputs": [],
   "source": [
    "# Compare total numbers for simulations on various months.\n",
    "results = list(db.passengerFlows.aggregate([{\n",
    "   '$match': {\n",
    "       'arrivalAirport': {\n",
    "           '$in': ['ATL']\n",
    "       }\n",
    "   }\n",
    "}, {\n",
    "    '$group': {\n",
    "        '_id': {\"$concat\": [\"$arrivalAirport\", \"$simGroup\"]},\n",
    "        'total': { '$sum': \"$estimatedPassengers\" }\n",
    "    }\n",
    "}]))\n",
    "df = pd.DataFrame(results)\n",
    "df\n"
   ]
  },
  {
   "cell_type": "code",
   "execution_count": null,
   "metadata": {},
   "outputs": [],
   "source": [
    "USAirports = [airport['_id'] for airport in db.airports.find({\"countryName\": \"United States\"})]\n",
    "results = list(db.passengerFlows.aggregate([{\n",
    "   '$match': {\n",
    "       'simGroup': 'fmd-2017-08',\n",
    "       'arrivalAirport': {\n",
    "           '$in': USAirports\n",
    "       }\n",
    "   }\n",
    "}, {\n",
    "    '$group': {\n",
    "        '_id': \"$arrivalAirport\",\n",
    "        'total': { '$sum': \"$estimatedPassengers\" }\n",
    "    }\n",
    "}]))\n",
    "df = pd.DataFrame(results)\n",
    "df\n"
   ]
  },
  {
   "cell_type": "code",
   "execution_count": null,
   "metadata": {},
   "outputs": [],
   "source": [
    "seatac_dest_oct_2016_rankings = [\n",
    "    'LAX',\n",
    "    'SFO',\n",
    "    'ANC',\n",
    "    'DEN',\n",
    "    'LAS',\n",
    "    'PHX',\n",
    "    'ORD',\n",
    "    'PDX',\n",
    "    'DFW',\n",
    "    'GEG'\n",
    "]\n",
    "results = list(db.passengerFlows.aggregate([{\n",
    "   '$match': {\n",
    "       \"departureAirport\": \"SEA\",\n",
    "       \"simGroup\": {\n",
    "           \"$in\": [\"fmd-2017-08\", \"fmd-2017-09\"]\n",
    "       },\n",
    "       \"arrivalAirport\": {\n",
    "           \"$in\": USAirports\n",
    "       }\n",
    "   }\n",
    "}, {\n",
    "    '$group': {\n",
    "        '_id': \"$arrivalAirport\",\n",
    "        'total': { '$sum': \"$estimatedPassengers\" }\n",
    "    }\n",
    "}]))\n",
    "pd.DataFrame(results).sort_values(by=\"total\", ascending=False)\n"
   ]
  },
  {
   "cell_type": "code",
   "execution_count": 32,
   "metadata": {
    "collapsed": true
   },
   "outputs": [
    {
     "ename": "TypeError",
     "evalue": "data argument can't be an iterator",
     "traceback": [
      "\u001b[0;31m---------------------------------------------------------------------------\u001b[0m",
      "\u001b[0;31mTypeError\u001b[0m                                 Traceback (most recent call last)",
      "\u001b[0;32m<ipython-input-32-13942de5ef7d>\u001b[0m in \u001b[0;36m<module>\u001b[0;34m()\u001b[0m\n\u001b[1;32m     11\u001b[0m     }\n\u001b[1;32m     12\u001b[0m }])\n\u001b[0;32m---> 13\u001b[0;31m \u001b[0mdf\u001b[0m \u001b[0;34m=\u001b[0m \u001b[0mpd\u001b[0m\u001b[0;34m.\u001b[0m\u001b[0mDataFrame\u001b[0m\u001b[0;34m(\u001b[0m\u001b[0mresults\u001b[0m\u001b[0;34m)\u001b[0m\u001b[0;34m\u001b[0m\u001b[0m\n\u001b[0m\u001b[1;32m     14\u001b[0m \u001b[0mdf\u001b[0m\u001b[0;34m\u001b[0m\u001b[0m\n",
      "\u001b[0;32m/opt/conda/lib/python3.6/site-packages/pandas/core/frame.py\u001b[0m in \u001b[0;36m__init__\u001b[0;34m(self, data, index, columns, dtype, copy)\u001b[0m\n\u001b[1;32m    323\u001b[0m                 \u001b[0mmgr\u001b[0m \u001b[0;34m=\u001b[0m \u001b[0mself\u001b[0m\u001b[0;34m.\u001b[0m\u001b[0m_init_dict\u001b[0m\u001b[0;34m(\u001b[0m\u001b[0;34m{\u001b[0m\u001b[0;34m}\u001b[0m\u001b[0;34m,\u001b[0m \u001b[0mindex\u001b[0m\u001b[0;34m,\u001b[0m \u001b[0mcolumns\u001b[0m\u001b[0;34m,\u001b[0m \u001b[0mdtype\u001b[0m\u001b[0;34m=\u001b[0m\u001b[0mdtype\u001b[0m\u001b[0;34m)\u001b[0m\u001b[0;34m\u001b[0m\u001b[0m\n\u001b[1;32m    324\u001b[0m         \u001b[0;32melif\u001b[0m \u001b[0misinstance\u001b[0m\u001b[0;34m(\u001b[0m\u001b[0mdata\u001b[0m\u001b[0;34m,\u001b[0m \u001b[0mcollections\u001b[0m\u001b[0;34m.\u001b[0m\u001b[0mIterator\u001b[0m\u001b[0;34m)\u001b[0m\u001b[0;34m:\u001b[0m\u001b[0;34m\u001b[0m\u001b[0m\n\u001b[0;32m--> 325\u001b[0;31m             \u001b[0;32mraise\u001b[0m \u001b[0mTypeError\u001b[0m\u001b[0;34m(\u001b[0m\u001b[0;34m\"data argument can't be an iterator\"\u001b[0m\u001b[0;34m)\u001b[0m\u001b[0;34m\u001b[0m\u001b[0m\n\u001b[0m\u001b[1;32m    326\u001b[0m         \u001b[0;32melse\u001b[0m\u001b[0;34m:\u001b[0m\u001b[0;34m\u001b[0m\u001b[0m\n\u001b[1;32m    327\u001b[0m             \u001b[0;32mtry\u001b[0m\u001b[0;34m:\u001b[0m\u001b[0;34m\u001b[0m\u001b[0m\n",
      "\u001b[0;31mTypeError\u001b[0m: data argument can't be an iterator"
     ],
     "output_type": "error"
    }
   ],
   "source": [
    "results = db.flights.aggregate([{\n",
    "    \"$group\": {\n",
    "        \"_id\": {\n",
    "            \"$dateToString\": {\n",
    "                \"date\": \"$departureDateTime\",\n",
    "                \"format\": \"%Y-%m-%d\"\n",
    "            }\n",
    "        },\n",
    "        \"totalFlights\": { \"$sum\": 1 },\n",
    "        \"totalSeats\": { \"$sum\": \"$totalSeats\" }\n",
    "    }\n",
    "}])\n",
    "df = pd.DataFrame(list(results))\n",
    "df"
   ]
  },
  {
   "cell_type": "code",
   "execution_count": 38,
   "metadata": {},
   "outputs": [
    {
     "data": {
      "text/plain": [
       "<matplotlib.axes._subplots.AxesSubplot at 0x7f0078653128>"
      ]
     },
     "execution_count": 38,
     "metadata": {},
     "output_type": "execute_result"
    },
    {
     "data": {
      "image/png": "[encoded data removed]",
      "text/plain": [
       "<matplotlib.figure.Figure at 0x7f007854ec18>"
      ]
     },
     "metadata": {},
     "output_type": "display_data"
    }
   ],
   "source": [
    "df.plot()"
   ]
  }
 ],
 "metadata": {
  "kernelspec": {
   "display_name": "Python 2",
   "language": "python",
   "name": "python2"
  },
  "language_info": {
   "codemirror_mode": {
    "name": "ipython",
    "version": 2
   },
   "file_extension": ".py",
   "mimetype": "text/x-python",
   "name": "python",
   "nbconvert_exporter": "python",
   "pygments_lexer": "ipython2",
   "version": "2.7.6"
  }
 },
 "nbformat": 4,
 "nbformat_minor": 0
}
